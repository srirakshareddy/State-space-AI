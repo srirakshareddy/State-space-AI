{
  "nbformat": 4,
  "nbformat_minor": 0,
  "metadata": {
    "colab": {
      "provenance": [],
      "include_colab_link": true
    },
    "kernelspec": {
      "name": "python3",
      "display_name": "Python 3"
    },
    "language_info": {
      "name": "python"
    }
  },
  "cells": [
    {
      "cell_type": "markdown",
      "metadata": {
        "id": "view-in-github",
        "colab_type": "text"
      },
      "source": [
        "<a href=\"https://colab.research.google.com/github/srirakshareddy/State-space-AI/blob/main/Sriraksha_statespace.ipynb\" target=\"_parent\"><img src=\"https://colab.research.google.com/assets/colab-badge.svg\" alt=\"Open In Colab\"/></a>"
      ]
    },
    {
      "cell_type": "markdown",
      "source": [
        "# **Word List**"
      ],
      "metadata": {
        "id": "_Vb843N9oKSl"
      }
    },
    {
      "cell_type": "code",
      "execution_count": null,
      "metadata": {
        "id": "bAa4Im9ptICB"
      },
      "outputs": [],
      "source": [
        "wordlist = {'bail': {'fail', 'jail', 'nail', 'tail'},\n",
        "             'cool': {'fool', 'pool'},\n",
        "             'doll': {'poll'},\n",
        "             'fail': {'bail', 'fall', 'foil', 'jail', 'nail', 'tail'},\n",
        "             'fall': {'fail', 'pall'},\n",
        "             'foil': {'fail', 'fool', 'foul', 'soil'},\n",
        "             'fool': {'cool', 'foil', 'foul', 'pool'},\n",
        "             'foul': {'foil', 'fool', 'soul'},\n",
        "             'jail': {'bail', 'fail', 'nail', 'tail'},\n",
        "             'nail': {'bail', 'fail', 'jail', 'tail'},\n",
        "             'page': {'pale', 'sage'},\n",
        "             'pale': {'page', 'pall', 'pole', 'sale'},\n",
        "             'pall': {'fall', 'pale', 'poll'},\n",
        "             'pipe': {'pope'},\n",
        "             'pole': {'pale', 'poll', 'pope'},\n",
        "             'poll': {'doll', 'pall', 'pole', 'pool'},\n",
        "             'pool': {'cool', 'fool', 'poll'},\n",
        "             'pope': {'pipe', 'pole'},\n",
        "             'sage': {'page', 'sale'},\n",
        "             'sale': {'pale', 'sage'},\n",
        "             'soil': {'foil', 'soul'},\n",
        "             'soul': {'foul', 'soil'},\n",
        "             'tail': {'bail', 'fail', 'jail', 'nail'}}\n",
        "\n",
        "\n"
      ]
    },
    {
      "cell_type": "markdown",
      "source": [
        "# **Defining Breadth First Search**"
      ],
      "metadata": {
        "id": "i5TkBDBco8SU"
      }
    },
    {
      "cell_type": "code",
      "source": [
        "def BFS_SP(wordlist, begin, end):\n",
        "    explored = []\n",
        "    queue = [[begin]]\n",
        "    if begin == end:\n",
        "        print(\"Same Node\")\n",
        "        return\n",
        "    while queue:\n",
        "        path = queue.pop(0)\n",
        "        node = path[-1]\n",
        "        if node not in explored:\n",
        "            neighbours = wordlist[node]\n",
        "            for neighbour in neighbours:\n",
        "                new_path = list(path)\n",
        "                new_path.append(neighbour)\n",
        "                queue.append(new_path)\n",
        "                if neighbour == end:\n",
        "                    print(f\"\\nBFS Shortest path is below {new_path}\")\n",
        "                    print(f\"\\nLength of shortest chain is: {len(new_path)-1}\")\n",
        "                    return\n",
        "            explored.append(node)\n",
        "    print(\"So sorry, but a connecting\"\\\n",
        "                \"path doesn't exist :(\")\n",
        "    return"
      ],
      "metadata": {
        "id": "FAb6nTiwn35E"
      },
      "execution_count": null,
      "outputs": []
    },
    {
      "cell_type": "markdown",
      "source": [
        "# **Defining Depth First Search**"
      ],
      "metadata": {
        "id": "CL6rg_mdppPr"
      }
    },
    {
      "cell_type": "code",
      "source": [
        "def DFS_SP(wordlist, begin, end):\n",
        "    explored = []\n",
        "    stack = [[begin]]\n",
        "    if begin == end:\n",
        "        print(\"Same Node\")\n",
        "        return\n",
        "    while stack:\n",
        "        path = stack.pop()\n",
        "        node = path[-1]\n",
        "        if node not in explored:\n",
        "            neighbours = wordlist[node]\n",
        "            for neighbour in neighbours:\n",
        "                new_path = list(path)\n",
        "                new_path.append(neighbour)\n",
        "                stack.append(new_path)\n",
        "                if neighbour == end:\n",
        "                    print(f\"\\nDFS Shortest path is below {new_path}\")\n",
        "                    print(f\"\\nLength of shortest chain is: {len(new_path)-1}\")\n",
        "                    return\n",
        "            explored.append(node)\n",
        "    print(\"So sorry, but a connecting\"\\\n",
        "                \"path doesn't exist :(\")\n",
        "    return"
      ],
      "metadata": {
        "id": "EQYZDVssn88v"
      },
      "execution_count": null,
      "outputs": []
    },
    {
      "cell_type": "markdown",
      "source": [
        "# **Running the search algorithms**"
      ],
      "metadata": {
        "id": "J9Qp_dGDpt89"
      }
    },
    {
      "cell_type": "code",
      "source": [
        "BFS_SP(wordlist, 'pole', 'soul')\n",
        "    \n",
        "DFS_SP(wordlist, 'pole', 'soul')"
      ],
      "metadata": {
        "colab": {
          "base_uri": "https://localhost:8080/"
        },
        "id": "pjD8iv8AoHpX",
        "outputId": "b7721448-817c-4bc8-97f7-f9ac1492aea4"
      },
      "execution_count": null,
      "outputs": [
        {
          "output_type": "stream",
          "name": "stdout",
          "text": [
            "\n",
            "BFS Shortest path is below ['pole', 'poll', 'pool', 'fool', 'foul', 'soul']\n",
            "\n",
            "Length of shortest chain is: 5\n",
            "\n",
            "DFS Shortest path is below ['pole', 'poll', 'pool', 'fool', 'foul', 'soul']\n",
            "\n",
            "Length of shortest chain is: 5\n"
          ]
        }
      ]
    }
  ]
}